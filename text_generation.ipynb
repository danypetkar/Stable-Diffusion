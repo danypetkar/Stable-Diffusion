{
 "cells": [
  {
   "cell_type": "code",
   "execution_count": 1,
   "id": "ad173b34-1c21-4f62-8480-f8f724956c44",
   "metadata": {},
   "outputs": [],
   "source": [
    "import os\n",
    "os.environ[\"XLA_PYTHON_CLIENT_PREALLOCATE\"]=\"false\"\n",
    "os.environ[\"XLA_PYTHON_CLIENT_MEM_FRACTION\"]=\".XX\"\n",
    "os.environ[\"XLA_PYTHON_CLIENT_ALLOCATOR\"]=\"platform\""
   ]
  },
  {
   "cell_type": "code",
   "execution_count": 2,
   "id": "57e2781c-abe2-4645-9a81-01a82e95b168",
   "metadata": {},
   "outputs": [],
   "source": [
    "import numpy as np\n",
    "import os\n",
    "os.environ[\"KERAS_BACKEND\"] = \"jax\""
   ]
  },
  {
   "cell_type": "code",
   "execution_count": 3,
   "id": "1411cfeb-d181-468a-ba0f-e143018e88d6",
   "metadata": {},
   "outputs": [],
   "source": [
    "#!pip install keras-nlp==0.17.0"
   ]
  },
  {
   "cell_type": "code",
   "execution_count": 4,
   "id": "bfd9be12-e4e3-47ac-a96f-b46b46a03e61",
   "metadata": {},
   "outputs": [
    {
     "name": "stderr",
     "output_type": "stream",
     "text": [
      "2024-11-01 15:30:19.666795: E external/local_xla/xla/stream_executor/cuda/cuda_fft.cc:477] Unable to register cuFFT factory: Attempting to register factory for plugin cuFFT when one has already been registered\n",
      "WARNING: All log messages before absl::InitializeLog() is called are written to STDERR\n",
      "E0000 00:00:1730455219.678454    7554 cuda_dnn.cc:8310] Unable to register cuDNN factory: Attempting to register factory for plugin cuDNN when one has already been registered\n",
      "E0000 00:00:1730455219.681939    7554 cuda_blas.cc:1418] Unable to register cuBLAS factory: Attempting to register factory for plugin cuBLAS when one has already been registered\n",
      "/home/aarav/anaconda3/envs/keras-jax/lib/python3.10/site-packages/tqdm/auto.py:21: TqdmWarning: IProgress not found. Please update jupyter and ipywidgets. See https://ipywidgets.readthedocs.io/en/stable/user_install.html\n",
      "  from .autonotebook import tqdm as notebook_tqdm\n"
     ]
    },
    {
     "name": "stdout",
     "output_type": "stream",
     "text": [
      "⭐  Keras version 3.6.0\n",
      "⭐  Running on JAX\n"
     ]
    }
   ],
   "source": [
    "import keras\n",
    "import keras_cv\n",
    "import keras_nlp\n",
    "\n",
    "backend = keras.config.backend()\n",
    "print('\\u2B50 ', 'Keras version '+keras.version())\n",
    "print('\\u2B50 ', 'Running on '+backend.upper())"
   ]
  },
  {
   "cell_type": "code",
   "execution_count": 5,
   "id": "fd543f4a-7f68-4550-bcec-e875f170fac6",
   "metadata": {},
   "outputs": [],
   "source": [
    "# OPT is a causal language model, it continues the input prompt."
   ]
  },
  {
   "cell_type": "code",
   "execution_count": 6,
   "id": "404b1df0-0a16-4121-b9f0-ba2244596262",
   "metadata": {},
   "outputs": [
    {
     "name": "stderr",
     "output_type": "stream",
     "text": [
      "Jax plugin configuration error: Exception when calling jax_plugins.xla_cuda12.initialize()\n",
      "Traceback (most recent call last):\n",
      "  File \"/home/aarav/anaconda3/envs/keras-jax/lib/python3.10/site-packages/jax/_src/xla_bridge.py\", line 610, in discover_pjrt_plugins\n",
      "    plugin_module.initialize()\n",
      "  File \"/home/aarav/anaconda3/envs/keras-jax/lib/python3.10/site-packages/jax_plugins/xla_cuda12/__init__.py\", line 83, in initialize\n",
      "    options = xla_client.generate_pjrt_gpu_plugin_options()\n",
      "  File \"/home/aarav/anaconda3/envs/keras-jax/lib/python3.10/site-packages/jaxlib/xla_client.py\", line 245, in generate_pjrt_gpu_plugin_options\n",
      "    options['memory_fraction'] = float(memory_fraction)\n",
      "ValueError: could not convert string to float: '.XX'\n",
      "An NVIDIA GPU may be present on this machine, but a CUDA-enabled jaxlib is not installed. Falling back to cpu.\n",
      "2024-11-01 15:30:25.503108: W tensorflow/core/common_runtime/gpu/gpu_bfc_allocator.cc:47] Overriding orig_value setting because the TF_FORCE_GPU_ALLOW_GROWTH environment variable is set. Original config value was 0.\n",
      "I0000 00:00:1730455225.503209    7554 gpu_device.cc:2022] Created device /job:localhost/replica:0/task:0/device:GPU:0 with 2278 MB memory:  -> device: 0, name: NVIDIA GeForce RTX 3050 Laptop GPU, pci bus id: 0000:01:00.0, compute capability: 8.6\n"
     ]
    }
   ],
   "source": [
    "nlp_model = keras_nlp.models.OPTCausalLM.from_preset(\"opt_125m_en\")\n",
    "nlp_model.compile(sampler=keras_nlp.samplers.ContrastiveSampler())"
   ]
  },
  {
   "cell_type": "code",
   "execution_count": 7,
   "id": "0551b4ad-9aca-456c-877b-312a0551a2cd",
   "metadata": {},
   "outputs": [
    {
     "name": "stderr",
     "output_type": "stream",
     "text": [
      "2024-11-01 15:30:26.706357: E tensorflow/core/util/util.cc:131] oneDNN supports DT_INT64 only on platforms with AVX-512. Falling back to the default Eigen-based implementation if present.\n"
     ]
    },
    {
     "name": "stdout",
     "output_type": "stream",
     "text": [
      "🙋  Hi, I'm a JAX machine learning developer.           What are you working on?\n",
      "🤖  \n",
      "A lot of data science stuff right now, I'm trying to figure out how to get a handle on what's going on in the world\n"
     ]
    }
   ],
   "source": [
    "prompt = \"Hi, I'm a {} machine learning developer. \\\n",
    "          What are you working on?\".format(backend.upper())\n",
    "response = nlp_model.generate(prompt, max_length=57)\n",
    "response = response.replace(prompt, '')\n",
    "print(\"\\U0001F64B \",prompt)\n",
    "print(\"\\U0001F916 \",response)"
   ]
  }
 ],
 "metadata": {
  "kernelspec": {
   "display_name": "Python 3 (ipykernel)",
   "language": "python",
   "name": "python3"
  },
  "language_info": {
   "codemirror_mode": {
    "name": "ipython",
    "version": 3
   },
   "file_extension": ".py",
   "mimetype": "text/x-python",
   "name": "python",
   "nbconvert_exporter": "python",
   "pygments_lexer": "ipython3",
   "version": "3.12.7"
  }
 },
 "nbformat": 4,
 "nbformat_minor": 5
}
